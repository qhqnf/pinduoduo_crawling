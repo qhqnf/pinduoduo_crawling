{
 "cells": [
  {
   "cell_type": "code",
   "execution_count": 1,
   "metadata": {},
   "outputs": [],
   "source": [
    "from urllib.request import urlopen, Request\n",
    "from fake_useragent import UserAgent\n",
    "import json\n",
    "import pandas as pd\n",
    "import numpy as np"
   ]
  },
  {
   "cell_type": "code",
   "execution_count": 70,
   "metadata": {},
   "outputs": [
    {
     "name": "stdout",
     "output_type": "stream",
     "text": [
      "Mozilla/5.0 (Windows NT 6.3; Win64; x64) AppleWebKit/537.36 (KHTML, like Gecko) Chrome/37.0.2049.0 Safari/537.36\n"
     ]
    }
   ],
   "source": [
    "useragent = UserAgent()\n",
    "print(useragent.chrome)\n",
    "\n",
    "page=0"
   ]
  },
  {
   "cell_type": "code",
   "execution_count": 82,
   "metadata": {},
   "outputs": [],
   "source": [
    "ajax_1 = 'http://mobile.yangkeduo.com/proxy/api/api/caterham/query/opt2_brand_pcard?pdduid=0&opt1_id=1281&list_id=1281_ed79q2gh35_1281&support_type=10_11'\n",
    "\n",
    "ajax_2 = \"http://mobile.yangkeduo.com/proxy/api/api/alexa/goods/hub?pdduid=0&page_sn=10002&list_update_time=true&platform=1&assist_allowed=1&hs_version=2&wrt_type=1&page=0&size=20&list_id=kuyal5m4j6&antiContent=0aoAfxn50Ol9Ug9TX64xHG_oKCKPAKru5JlgVf7EZTZT-TfBaSqGGXoLcqlr0BCVkBYNCTAoilfZTAoW7MhLevGKWt5Qf3OvhJ_Suxn5u7ovw7ppgNA6gam5UK7jJQhRuefg952kbottCVFCKrpCTQ42_lX2kx8QEx2efZ-TUHKaK51z1KjCv_pPn9fREz1XX7rmLQHc0u5IdPmEF9e--GZyUhog9B4Pk306w4H05k4vd6Shuv0Qz3DsAGY9FP2tcyzyGUR9NeUBOq1f6nvYfoO7t3w89YVPbf4gV0Tv3Fk-GNHzJMN5EhNJ4L-cDPiAIDwdiRu5kGcfZv-LIhIeSSbL7miR-yi6pvn_aAjfCANOpCnIblH5dDVOn6J9wYtehU\"\n",
    "\n",
    "headers = {\n",
    "    \"User-Agent\": useragent.chrome,\n",
    "    \"Content-Type\": \"application/json, text/plain, */*\",\n",
    "    \"Host\": \"mobile.yangkeduo.com\",\n",
    "    \"Origin\": \"http://mobile.yangkeduo.com\",\n",
    "    \"Referer\": \"http://mobile.yangkeduo.com/\",\n",
    "    \"Referrer Policy\": \"strict-origin-when-cross-origin\"\n",
    "}"
   ]
  },
  {
   "cell_type": "code",
   "execution_count": 72,
   "metadata": {},
   "outputs": [],
   "source": [
    "page_data_response = urlopen(Request(ajax_1, headers=headers)).read().decode('utf-8')\n",
    "page_data = json.loads(page_data_response)['data']"
   ]
  },
  {
   "cell_type": "code",
   "execution_count": 88,
   "metadata": {},
   "outputs": [
    {
     "data": {
      "text/plain": [
       "{'class_type': 'RecIndexOpt2',\n",
       " 'image_url': 'http://t00img.yangkeduo.com/goods/2020-03-19/f3dbca143bff4844f9096944bb357f1c.jpeg',\n",
       " 'p_rec': {'set': 'sh2',\n",
       "  'list_id': 'index_opt2_blk__1281_ed79q2gh35_1281',\n",
       "  'org': 'rec',\n",
       "  'g': 'user0',\n",
       "  'bk': '23',\n",
       "  'm': 'back_up',\n",
       "  'opt_id': '1281',\n",
       "  'req_id': '8065b3ac4848',\n",
       "  'app_name': 'index_opt2_blk',\n",
       "  'te': '1602160236621',\n",
       "  't': '2120',\n",
       "  'request_id': '7cb130e6-f480-483e-a41d-c1c91f6b732a',\n",
       "  'ts': '1602160236616'},\n",
       " 'stat_track': {'page_el_sn': '376916'},\n",
       " 'id': 2120,\n",
       " 'opt_name': '秋上新',\n",
       " 'home_priority': 1,\n",
       " 'home_man_priority': 1,\n",
       " 'string_id': '2120'}"
      ]
     },
     "execution_count": 88,
     "metadata": {},
     "output_type": "execute_result"
    }
   ],
   "source": [
    "page_data[\"opt2_list\"][0]"
   ]
  },
  {
   "cell_type": "code",
   "execution_count": 83,
   "metadata": {},
   "outputs": [],
   "source": [
    "goods_data_response = urlopen(Request(ajax_2, headers=headers)).read().decode('utf-8')\n",
    "goods_data = json.loads(goods_data_response)['goods_list']"
   ]
  },
  {
   "cell_type": "code",
   "execution_count": 84,
   "metadata": {},
   "outputs": [
    {
     "name": "stdout",
     "output_type": "stream",
     "text": [
      "2120 秋上新\n",
      "1284 女鞋\n",
      "1283 男鞋\n",
      "2382 帆布鞋\n",
      "3201 靴子\n",
      "5219 女包\n",
      "1290 双肩包\n",
      "1782 低帮鞋\n",
      "5221 功能箱包\n"
     ]
    }
   ],
   "source": [
    "for i in page_data['opt2_list']:\n",
    "    print(i['id'], i['opt_name'])\n",
    "    category"
   ]
  },
  {
   "cell_type": "code",
   "execution_count": 85,
   "metadata": {},
   "outputs": [
    {
     "data": {
      "text/plain": [
       "{'goods_id': 127993467035,\n",
       " 'goods_name': '劳保手套耐磨线手套尼龙手套男女劳动干活工地工作白棉线手套批发',\n",
       " 'short_name': '劳保手套耐磨线手套尼龙手套男女劳动干活工地工作白棉线手套批发',\n",
       " 'image_url': 'http://commimg.pddpic.com/img_check/2020-10-08/97ebdf0b9f8c83b61f96a66de24f2175.jpg',\n",
       " 'thumb_url': 'https://t00img.yangkeduo.com/goods/images/2020-06-02/afb018c2115f9c4afce088d95fd0262c.jpeg',\n",
       " 'hd_thumb_url': 'https://t00img.yangkeduo.com/goods/images/2020-06-02/d7766957c3aabf02fde4a9ee1b5111b9.jpeg',\n",
       " 'is_app': 0,\n",
       " 'event_type': 0,\n",
       " 'group': {'price': 868, 'customer_num': 2},\n",
       " 'cnt': 100000,\n",
       " 'market_price': 8660,\n",
       " 'normal_price': 1178,\n",
       " 'country': '',\n",
       " 'allowed_region': '[2, 3, 4, 5, 6, 7, 8, 9, 10, 11, 12, 13, 14, 15, 16, 17, 18, 19, 20, 21, 22, 23, 24, 25, 26, 27, 30, 31, 32]',\n",
       " 'region_limit': 1,\n",
       " 'p_rec': {'app_name': 'new_homepage',\n",
       "  't': 'default',\n",
       "  'org': 'rec',\n",
       "  'g': '',\n",
       "  'bk': '',\n",
       "  'm': 'default'},\n",
       " 'is_assist': 0,\n",
       " 'assist_count': 0,\n",
       " 'sales_tip': '已拼10万+件',\n",
       " 'link_url': 'goods.html?goods_id=127993467035',\n",
       " 'hd_url': 'https://t00img.yangkeduo.com/goods/images/2020-06-02/34a0d209-06d0-4ee2-adde-63c24d46fd4b.jpg',\n",
       " 'near_group': {'list': [{'avatar': 'https://avatar2.pddpic.com/a/Q0pRVUJVdmdENlRJdDJZdndHYzI5bXlkajlwakN3WnZDdz09djA0-1596378241?imageMogr2/thumbnail/100x'},\n",
       "   {'avatar': 'https://avatar2.pddpic.com/a/fdb9087dd6d02d8ae204e3ccd5ba87adc15eeb8b-1540847409?imageMogr2/thumbnail/100x'}]}}"
      ]
     },
     "execution_count": 85,
     "metadata": {},
     "output_type": "execute_result"
    }
   ],
   "source": [
    "data[0]"
   ]
  },
  {
   "cell_type": "code",
   "execution_count": 22,
   "metadata": {},
   "outputs": [
    {
     "name": "stdout",
     "output_type": "stream",
     "text": [
      "127993467035 劳保手套耐磨线手套尼龙手套男女劳动干活工地工作白棉线手套批发: 1178 won \n",
      "122280183630 【新品特惠亏本冲量】猪后腿肉新鲜猪肉农家散养猪后腿肉: 9500 won \n",
      "172876599725 2020年新【花生米5斤特价】白沙花生米新红皮花生花生米大花生2斤: 1595 won \n",
      "59692224725 【2年老母鸡】深山农场农家散养2-3年老母鸡土鸡月子鸡走地鸡笨鸡: 3949 won \n",
      "155697251896 【亏本特价花生米】19年新货去壳白沙花生米农家散装批发250g5斤: 1068 won \n",
      "114344213063 【十足干蒜】新干蒜紫白皮干蒜头特价批发干蒜大蒜种子香蒜2/10斤: 890 won \n",
      "2119830314 秋冬季男士加绒加厚保暖衬衫长袖中老年格子印花衬衣休闲大码男装: 3980 won \n",
      "4366006034 英特尔/全新15.6/14寸正品办公游戏学习手提笔记本电脑超轻薄分期: 118000 won \n",
      "171502778515 304板栗开口器栗子剥壳器开板栗神器去皮剥生板栗夹子家用划口刀: 630 won \n",
      "75062696784 志高全自动洗衣机4.8/7.5/8.5公斤宿舍小型家用迷你大容量甩干: 45800 won \n",
      "19544578444 新款秋冬季男士保暖衬衫加绒加厚款长袖衬衣爸爸中年格子印花男装: 5900 won \n",
      "38763049330 足疗机全自动足部腿部脚底按摩器家用揉捏加热电动穴位气囊按脚器: 16900 won \n",
      "172403648568 电动车挡风被冬季电瓶车加绒加大加厚防挡风罩电动摩托车防水保暖: 4990 won \n",
      "493976265 韩版铝框行李箱女拉杆箱男密码箱旅行箱包26学生24皮箱20寸28箱子: 6600 won \n",
      "128550173847 【超低价】新蒜干蒜大蒜头批发5斤山东紫皮大蒜新干蒜3/10斤蒜头: 980 won \n",
      "169443960 加粗加厚实木子母床双层床两层上下床成人高低床儿童床成人母子床: 89800 won \n",
      "176398061548 冬季加绒加厚棉鞋女老北京布鞋软底防滑中老年妈妈保暖休闲运动鞋: 4280 won \n",
      "97311438623 申花全自动洗衣机3.5/4.5/7.6/8/9/10/12KG家用智能静音一键洗脱: 36900 won \n",
      "178783706154 瓜子现炒零食小吃批发焦糖五香原味特价散装葵花籽干果特产炒货: 510 won \n",
      "112228290021 汗蒸袋家用全身沙棘排酸毒排湿排寒毯美容院专用排酸毒可伸手加厚: 34900 won \n"
     ]
    }
   ],
   "source": [
    "for item in data:\n",
    "    print(f\"{item['goods_id']} {item['short_name']}: {item['normal_price']} won \")"
   ]
  },
  {
   "cell_type": "code",
   "execution_count": null,
   "metadata": {},
   "outputs": [],
   "source": [
    "url = 'http://mobile.yangkeduo.com/proxy/api/api/caterham/query/fenlei_gyl_group?pdduid=0&page_sn=10002&opt_type=1&count=20&support_types=0_4_5_6_7_9&opt_name=&platform=H5&page_id=index.html%3Fdy_sub_page%3Dcategory&opt_id=1281&offset=0&list_id=ed79q2gh35_1281&anti_content=0aoAfxn55NhYY9EVyiRG5TPggvPvEmt6ECVsm7jimRsSASTPUws4tydvJj14cTJbrpJ60cfP3meiCgT9Nif_I4oXItxXpnxfqs9fKeL6q888cN8-Ck9Dr04ek_0hIgB-bii_DZOJPAgzoKi_DCVJkS-SkeC4qkotM790oCWTeIQ06pXf50gk4-7LH-I_ajYmownf7avJ_hcciKempNvbDRc4F7LZIH5ioWNhR1R8Pd6-XDDSLPHMKK-FhmpoEjGm0aXiz4AByBA-T98dEaU-1R0uE46-Q0LuSXj6ENwlz8QkN9MFsUjNeVG7uujEwy6H1dBr9CqT7q7m-GBWeRyGEm8Jb2bpprmj0kQ647VBUJZD_q6XK_5VScfiOKL1G0UHj3ipPTPpmio_QYYBTRxkUeA2JwkVIv6KB0c6FUouJAYZUGodNLhft7KlT80EkpAlTZ3I8kf_sfl7h9Sq7uPAqpnXjL3XO2o1ArEytDUlPq0kWGMBAqZakqAtbLMhAGUemRGTFggLYpoNcCxQoHlsqsnfHvVyEJOqqMcxcybiWRDkqZnTeLs6B9DoRFzlqMCEN6YpJJ1NI5yGgSLbFFIcGRRBLexZNP'\n"
   ]
  }
 ],
 "metadata": {
  "kernelspec": {
   "display_name": "Python 3",
   "language": "python",
   "name": "python3"
  },
  "language_info": {
   "codemirror_mode": {
    "name": "ipython",
    "version": 3
   },
   "file_extension": ".py",
   "mimetype": "text/x-python",
   "name": "python",
   "nbconvert_exporter": "python",
   "pygments_lexer": "ipython3",
   "version": "3.8.5"
  }
 },
 "nbformat": 4,
 "nbformat_minor": 4
}
