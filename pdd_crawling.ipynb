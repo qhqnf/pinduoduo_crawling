{
 "cells": [
  {
   "cell_type": "code",
   "execution_count": 10,
   "metadata": {},
   "outputs": [],
   "source": [
    "from urllib.request import urlopen, Request\n",
    "from fake_useragent import UserAgent\n",
    "import json\n",
    "import pandas as pd\n",
    "import numpy as np"
   ]
  },
  {
   "cell_type": "code",
   "execution_count": 11,
   "metadata": {},
   "outputs": [
    {
     "name": "stdout",
     "output_type": "stream",
     "text": [
      "Mozilla/5.0 (Windows NT 6.1; WOW64) AppleWebKit/537.36 (KHTML, like Gecko) Chrome/27.0.1453.93 Safari/537.36\n"
     ]
    }
   ],
   "source": [
    "useragent = UserAgent()\n",
    "print(useragent.chrome)"
   ]
  },
  {
   "cell_type": "code",
   "execution_count": 12,
   "metadata": {},
   "outputs": [],
   "source": [
    "headers = {\n",
    "    \"User-Agent\": useragent.chrome,\n",
    "    \"Content-Type\": \"application/json, text/plain, */*\",\n",
    "    \"Host\": \"mobile.yangkeduo.com\",\n",
    "    \"Origin\": \"http://mobile.yangkeduo.com\",\n",
    "    \"Referer\": \"http://mobile.yangkeduo.com/\",\n",
    "    \"Referrer Policy\": \"strict-origin-when-cross-origin\"\n",
    "}"
   ]
  },
  {
   "cell_type": "code",
   "execution_count": 17,
   "metadata": {},
   "outputs": [],
   "source": [
    "page=1\n",
    "page_data_url = f\"http://mobile.yangkeduo.com/proxy/api/api/caterham/query/opt2_brand_pcard?pdduid=0&opt1_id=1281&list_id=1281_ed79q2gh35_1281&support_type=10_11\"\n",
    "\n",
    "goods_data_url = f\"http://mobile.yangkeduo.com/proxy/api/api/alexa/goods/hub?pdduid=0&page_sn=10002&list_update_time=true&platform=1&assist_allowed=1&hs_version=2&wrt_type=1&page={page}&size=20&list_id=kuyal5m4j6&antiContent=0aoAfxn50Ol9Ug9TX64xHG_oKCKPAKru5JlgVf7EZTZT-TfBaSqGGXoLcqlr0BCVkBYNCTAoilfZTAoW7MhLevGKWt5Qf3OvhJ_Suxn5u7ovw7ppgNA6gam5UK7jJQhRuefg952kbottCVFCKrpCTQ42_lX2kx8QEx2efZ-TUHKaK51z1KjCv_pPn9fREz1XX7rmLQHc0u5IdPmEF9e--GZyUhog9B4Pk306w4H05k4vd6Shuv0Qz3DsAGY9FP2tcyzyGUR9NeUBOq1f6nvYfoO7t3w89YVPbf4gV0Tv3Fk-GNHzJMN5EhNJ4L-cDPiAIDwdiRu5kGcfZv-LIhIeSSbL7miR-yi6pvn_aAjfCANOpCnIblH5dDVOn6J9wYtehU\"\n",
    "\n",
    "goods_data_url2 = f\"http://mobile.yangkeduo.com/proxy/api/api/caterham/query/fenlei_gyl_group?pdduid=0&page_sn=10002&opt_type=1&count=20&support_types=0_4_5_6_7_9&opt_name=&platform=H5&page_id=index.html%3Fdy_sub_page%3Dcategory&opt_id=14&offset=0&list_id=fkwgrekvp8_14&anti_content=0aoAfxnUXycYY9dVzic_aXgZ9YGsCZnd2zFSO55WLOvVgf9OPpT_U8vtFfFpeaaXH_lMuCVQoHzDn5o25o0GrBB2j00MCYQoPPFT3VgF-q-50LumJLcGed9r2ndmwdZu2dSWYDEFRPvCd5b5M26xUigDTd1z89DbJd414sr29vcWC9sUoFmEIVkcNs7SG_0dftAGicCpWfOMDFfW1q5nr-huuXB1vx7KW8AhNfDgDq6dWwcz2peh1EFkdRg7sjxrz0giLnd0ungAbxa9TNgh3bp_Sy9u3ZVl3bKc43FouZkGBy5XWf7yvJA0Clw2qFMdRFGz2q7Rrfr-XJ0sVDZ0TRiVnzIXmcG0cHuspobAFI70dr6cP6ad96sdj9DJ9gtWONYQulj6mWyQujZVh7S1OHxDuRySEa0cdSsE9Ap-0VA8oYNbOVXBZZ5DUpLqQPX8LmZwZYQIcgUGPjFIfZdXZJ-mMr2mxaJ8Ub7PS3ee1cdyXLscfRlmRt1T8_1YCXZCzXuUPv5LefBFH7rMQukSO2HYyvnVNwkVb8jxqY_ZagMq8UJ_MufmqVng3bbXF4yuXNdudXMKxaZd8sFCqymbIzGLsF3UejNcG0FhDGl3LCpMGancb85wk_G_7ErDYDdnURDmMKzRQRYsUJ5UBrj9LZ6D6k8tTLblQkNHblbrL0af2xyOBb5dtRR2FJKK4o\""
   ]
  },
  {
   "cell_type": "code",
   "execution_count": 13,
   "metadata": {},
   "outputs": [],
   "source": [
    "page_data_response = urlopen(Request(page_data_url, headers=headers)).read().decode('utf-8')\n",
    "page_data = json.loads(page_data_response)['data']"
   ]
  },
  {
   "cell_type": "code",
   "execution_count": 14,
   "metadata": {},
   "outputs": [],
   "source": [
    "goods_data_response = urlopen(Request(goods_data_url, headers=headers)).read().decode('utf-8')\n",
    "goods_data = json.loads(goods_data_response)['goods_list']"
   ]
  },
  {
   "cell_type": "code",
   "execution_count": 15,
   "metadata": {},
   "outputs": [
    {
     "data": {
      "text/html": [
       "<div>\n",
       "<style scoped>\n",
       "    .dataframe tbody tr th:only-of-type {\n",
       "        vertical-align: middle;\n",
       "    }\n",
       "\n",
       "    .dataframe tbody tr th {\n",
       "        vertical-align: top;\n",
       "    }\n",
       "\n",
       "    .dataframe thead th {\n",
       "        text-align: right;\n",
       "    }\n",
       "</style>\n",
       "<table border=\"1\" class=\"dataframe\">\n",
       "  <thead>\n",
       "    <tr style=\"text-align: right;\">\n",
       "      <th></th>\n",
       "      <th>id</th>\n",
       "      <th>name</th>\n",
       "      <th>price</th>\n",
       "    </tr>\n",
       "  </thead>\n",
       "  <tbody>\n",
       "    <tr>\n",
       "      <th>0</th>\n",
       "      <td>6399012393</td>\n",
       "      <td>高架床单上层床成人儿童学生小户型省空间多功能组合实木上床下桌</td>\n",
       "      <td>89900</td>\n",
       "    </tr>\n",
       "    <tr>\n",
       "      <th>1</th>\n",
       "      <td>2620356108</td>\n",
       "      <td>【大连海参】7A级大连纯野生海参干货纯干海参大连淡干辽参刺参</td>\n",
       "      <td>15900</td>\n",
       "    </tr>\n",
       "    <tr>\n",
       "      <th>2</th>\n",
       "      <td>8149459035</td>\n",
       "      <td>现代简约白色实木床1.5米橡胶木双人主卧1.8米储物高箱床成人婚床</td>\n",
       "      <td>90000</td>\n",
       "    </tr>\n",
       "    <tr>\n",
       "      <th>3</th>\n",
       "      <td>19317497306</td>\n",
       "      <td>新款耀海电动电瓶车成人电动自行车男女48V小型代步车电动长跑王</td>\n",
       "      <td>80900</td>\n",
       "    </tr>\n",
       "    <tr>\n",
       "      <th>4</th>\n",
       "      <td>9098425404</td>\n",
       "      <td>25/35CM夹缝收纳柜塑料床头柜开门抽屉式厨房整理柜卫生间储物柜</td>\n",
       "      <td>7500</td>\n",
       "    </tr>\n",
       "    <tr>\n",
       "      <th>...</th>\n",
       "      <td>...</td>\n",
       "      <td>...</td>\n",
       "      <td>...</td>\n",
       "    </tr>\n",
       "    <tr>\n",
       "      <th>375</th>\n",
       "      <td>173101921486</td>\n",
       "      <td>联想(Lenovo)小新Pro13高性能轻薄本英特尔酷睿i7六核笔记本电脑</td>\n",
       "      <td>659900</td>\n",
       "    </tr>\n",
       "    <tr>\n",
       "      <th>376</th>\n",
       "      <td>147257135574</td>\n",
       "      <td>现货成人一次性口罩三层含熔喷布成人防尘防护透气民用囗罩50只装</td>\n",
       "      <td>770</td>\n",
       "    </tr>\n",
       "    <tr>\n",
       "      <th>377</th>\n",
       "      <td>52832668470</td>\n",
       "      <td>Adidas 阿迪达斯2020男装卫衣经典休闲舒适针织套衫DU0395</td>\n",
       "      <td>32800</td>\n",
       "    </tr>\n",
       "    <tr>\n",
       "      <th>378</th>\n",
       "      <td>8068009133</td>\n",
       "      <td>布艺沙发组合客厅整装现代简约大小户经济型拆洗贵妃冬夏两用家具</td>\n",
       "      <td>198000</td>\n",
       "    </tr>\n",
       "    <tr>\n",
       "      <th>379</th>\n",
       "      <td>172235808604</td>\n",
       "      <td>床上笔记本电脑桌卧室坐地学生宿舍学习书桌简约可折叠懒人小桌子</td>\n",
       "      <td>1900</td>\n",
       "    </tr>\n",
       "  </tbody>\n",
       "</table>\n",
       "<p>380 rows × 3 columns</p>\n",
       "</div>"
      ],
      "text/plain": [
       "               id                                   name   price\n",
       "0      6399012393         高架床单上层床成人儿童学生小户型省空间多功能组合实木上床下桌   89900\n",
       "1      2620356108         【大连海参】7A级大连纯野生海参干货纯干海参大连淡干辽参刺参   15900\n",
       "2      8149459035      现代简约白色实木床1.5米橡胶木双人主卧1.8米储物高箱床成人婚床   90000\n",
       "3     19317497306        新款耀海电动电瓶车成人电动自行车男女48V小型代步车电动长跑王   80900\n",
       "4      9098425404      25/35CM夹缝收纳柜塑料床头柜开门抽屉式厨房整理柜卫生间储物柜    7500\n",
       "..            ...                                    ...     ...\n",
       "375  173101921486  联想(Lenovo)小新Pro13高性能轻薄本英特尔酷睿i7六核笔记本电脑  659900\n",
       "376  147257135574        现货成人一次性口罩三层含熔喷布成人防尘防护透气民用囗罩50只装     770\n",
       "377   52832668470    Adidas 阿迪达斯2020男装卫衣经典休闲舒适针织套衫DU0395   32800\n",
       "378    8068009133         布艺沙发组合客厅整装现代简约大小户经济型拆洗贵妃冬夏两用家具  198000\n",
       "379  172235808604         床上笔记本电脑桌卧室坐地学生宿舍学习书桌简约可折叠懒人小桌子    1900\n",
       "\n",
       "[380 rows x 3 columns]"
      ]
     },
     "execution_count": 15,
     "metadata": {},
     "output_type": "execute_result"
    }
   ],
   "source": [
    "# goods\n",
    "items = []\n",
    "for page in range(1,20):\n",
    "    goods_data_url = f\"http://mobile.yangkeduo.com/proxy/api/api/alexa/goods/hub?pdduid=0&page_sn=10002&list_update_time=true&platform=1&assist_allowed=1&hs_version=2&wrt_type=1&page={page}&size=20&list_id=kuyal5m4j6&antiContent=0aoAfxn50Ol9Ug9TX64xHG_oKCKPAKru5JlgVf7EZTZT-TfBaSqGGXoLcqlr0BCVkBYNCTAoilfZTAoW7MhLevGKWt5Qf3OvhJ_Suxn5u7ovw7ppgNA6gam5UK7jJQhRuefg952kbottCVFCKrpCTQ42_lX2kx8QEx2efZ-TUHKaK51z1KjCv_pPn9fREz1XX7rmLQHc0u5IdPmEF9e--GZyUhog9B4Pk306w4H05k4vd6Shuv0Qz3DsAGY9FP2tcyzyGUR9NeUBOq1f6nvYfoO7t3w89YVPbf4gV0Tv3Fk-GNHzJMN5EhNJ4L-cDPiAIDwdiRu5kGcfZv-LIhIeSSbL7miR-yi6pvn_aAjfCANOpCnIblH5dDVOn6J9wYtehU\"\n",
    "    goods_data_response = urlopen(Request(goods_data_url, headers=headers)).read().decode('utf-8')\n",
    "    goods_data = json.loads(goods_data_response)['goods_list']\n",
    "    for item in goods_data:\n",
    "        items.append([str(item['goods_id']), item['short_name'], item['normal_price']])\n",
    "\n",
    "df = pd.DataFrame(items, columns=[\"id\", \"name\", \"price\"])\n",
    "df"
   ]
  },
  {
   "cell_type": "code",
   "execution_count": 16,
   "metadata": {},
   "outputs": [
    {
     "data": {
      "text/html": [
       "<div>\n",
       "<style scoped>\n",
       "    .dataframe tbody tr th:only-of-type {\n",
       "        vertical-align: middle;\n",
       "    }\n",
       "\n",
       "    .dataframe tbody tr th {\n",
       "        vertical-align: top;\n",
       "    }\n",
       "\n",
       "    .dataframe thead th {\n",
       "        text-align: right;\n",
       "    }\n",
       "</style>\n",
       "<table border=\"1\" class=\"dataframe\">\n",
       "  <thead>\n",
       "    <tr style=\"text-align: right;\">\n",
       "      <th></th>\n",
       "      <th>id</th>\n",
       "      <th>name</th>\n",
       "    </tr>\n",
       "  </thead>\n",
       "  <tbody>\n",
       "    <tr>\n",
       "      <th>0</th>\n",
       "      <td>2120</td>\n",
       "      <td>秋上新</td>\n",
       "    </tr>\n",
       "    <tr>\n",
       "      <th>1</th>\n",
       "      <td>1284</td>\n",
       "      <td>女鞋</td>\n",
       "    </tr>\n",
       "    <tr>\n",
       "      <th>2</th>\n",
       "      <td>1283</td>\n",
       "      <td>男鞋</td>\n",
       "    </tr>\n",
       "    <tr>\n",
       "      <th>3</th>\n",
       "      <td>2382</td>\n",
       "      <td>帆布鞋</td>\n",
       "    </tr>\n",
       "    <tr>\n",
       "      <th>4</th>\n",
       "      <td>3201</td>\n",
       "      <td>靴子</td>\n",
       "    </tr>\n",
       "    <tr>\n",
       "      <th>5</th>\n",
       "      <td>5219</td>\n",
       "      <td>女包</td>\n",
       "    </tr>\n",
       "    <tr>\n",
       "      <th>6</th>\n",
       "      <td>1290</td>\n",
       "      <td>双肩包</td>\n",
       "    </tr>\n",
       "    <tr>\n",
       "      <th>7</th>\n",
       "      <td>1782</td>\n",
       "      <td>低帮鞋</td>\n",
       "    </tr>\n",
       "    <tr>\n",
       "      <th>8</th>\n",
       "      <td>5221</td>\n",
       "      <td>功能箱包</td>\n",
       "    </tr>\n",
       "  </tbody>\n",
       "</table>\n",
       "</div>"
      ],
      "text/plain": [
       "     id  name\n",
       "0  2120   秋上新\n",
       "1  1284    女鞋\n",
       "2  1283    男鞋\n",
       "3  2382   帆布鞋\n",
       "4  3201    靴子\n",
       "5  5219    女包\n",
       "6  1290   双肩包\n",
       "7  1782   低帮鞋\n",
       "8  5221  功能箱包"
      ]
     },
     "execution_count": 16,
     "metadata": {},
     "output_type": "execute_result"
    }
   ],
   "source": [
    "# 鞋 category\n",
    "category_id = []\n",
    "for i in page_data['opt2_list']:\n",
    "    category_id.append([i['id'], i['opt_name']])\n",
    "    \n",
    "category = pd.DataFrame(category_id, columns=['id', 'name'])\n",
    "category"
   ]
  },
  {
   "cell_type": "code",
   "execution_count": null,
   "metadata": {},
   "outputs": [],
   "source": []
  }
 ],
 "metadata": {
  "kernelspec": {
   "display_name": "crawling",
   "language": "python",
   "name": "crawling"
  },
  "language_info": {
   "codemirror_mode": {
    "name": "ipython",
    "version": 3
   },
   "file_extension": ".py",
   "mimetype": "text/x-python",
   "name": "python",
   "nbconvert_exporter": "python",
   "pygments_lexer": "ipython3",
   "version": "3.8.5"
  }
 },
 "nbformat": 4,
 "nbformat_minor": 4
}
